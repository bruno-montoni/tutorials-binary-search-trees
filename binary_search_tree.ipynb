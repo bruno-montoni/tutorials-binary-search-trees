{
 "cells": [
  {
   "cell_type": "markdown",
   "metadata": {},
   "source": [
    "# ```Binary Search Tree (BST)``` Tutorial #\n",
    "\n",
    "### What is ```Binary Tree```? ###\n",
    "A ```Binary Tree``` is made of ```nodes```, where each ```node``` contains a *left*/*right* pointers and a data element. The ```root``` pointer points to the topmost node in the tree. The *left/right* pointers recursively point to smaller ```subtrees``` on either side. A ```null pointer``` represents a binary tree with no elements (empty subtree).\n",
    "\n",
    "### What is ```Binary Search Tree (BST)```? ###\n",
    " A ```Binary Search Tree (BST)``` is a subtype of ```Binary Tree``` where the ```nodes``` are arranged in order: for each ```node```, all elements in its *left* are *less-or-equal* to the node, and all the elements in its *right* are *greater* than the node. \n",
    "\n",
    "### Why ```BSTs```? ###\n",
    "```BSTs``` are fast at insert and lookup. On average, a ```BST``` can locate a node in an ```N``` node tree in ```log2(N)``` time. Therefore, they're very good for *dictionary-like problems* where the code inserts and looks up information indexed by some key. \n",
    "\n",
    "### Pros x Cons ###\n",
    "- [Pro] Fast (```O(log(n))```) insertion, deletion and lookup operations;\n",
    "- [Pro] Simple implementation (via recursion);\n",
    "- [Con] Slow for a brute-force search (arrays can be faster for iteration over each node);\n",
    "- [Con] When the tree becomes unbalanced, all ```O(log(n))``` operations degrade to ```O(n)```;\n",
    "- [Con] Can require quite a bit more memory than an array (since all nodes are class instances);\n",
    "\n",
    "### Core Functions ###\n",
    "- ```insert()```: new nodes are always added at the leaf level with the following steps:\n",
    "    1. Find the proper location (new node’s ```parent```) for insertion by walking through the tree (from the ```root```) and comparing ```id```s along the way;\n",
    "    2. After finding the ```parent```, update its children to point to the new node;\n",
    "    3. Update the new node’s ```parent``` attribute to point to parent node;\n",
    "- ```search()```: is similar to ```insert()```:\n",
    "    1. Walks through the tree from the ```root``` and compares each node’s ```id``` along the way;\n",
    "    2. If ```id``` matches, returns ```True``` with the found node;\n",
    "    3. If there's no match after reaching leaf level, returns ```False``` (node does not exist);\n",
    "- ```transplant()```: replaces the subtree rooted at ```delete_node``` with the subtree rooted at ```replace_node```, with the following steps:\n",
    "    1. Checks if ```delete_node``` is ```root``` (if so, updates ```root```);\n",
    "    2. Checks if ```delete_node``` is a left child (if so, updates ```delete_node.parent.left```);\n",
    "    3. Checks if ```delete_node``` is a right child (if so, updates ```delete_node.parent.right```);\n",
    "    4. Updates ```replace_node.parent``` with ```delete_node.parent```;\n",
    "- ```delete()```: there are 3 cases (*no child*, *one child* and *two children*; the last one with 2 subcases) that need solution following the steps below:\n",
    "    1. Finds the ```delete_node```;\n",
    "    2. If ```delete_node``` has no child, replace it with ```None```;\n",
    "    3. If ```delete_node``` has 1 child, replace it with that child;\n",
    "    4. If ```delete_node``` has 2 children:<br>\n",
    "        4.1. Find the ```leftmost node``` from the right subtree;<br>\n",
    "        4.2. If ```leftmost node``` is a direct child of ```delete_node```, replace the last with it;\n",
    "        4.3. If ```delete_node.right``` also has 2 children:<br>\n",
    "            4.3.1. Remove the ```leftmost node``` (keeping a potential right child in ```leftmost node```'s original place);\n",
    "            4.3.2. Take the ```leftmost node``` as the right subtree's new root;\n",
    "            4.3.3. Replace ```delete_node``` with the right subtree's new root (4.3.2);\n",
    "- ```get_leftmost()``` / ```get_rightmost()```: applicable to any node and keeps walking to a single direction (either left or right; returns node);\n",
    "- ```get_min()``` / ```get_max()```: similar to ```get_leftmost()``` / ```get_rightmost()``` (returns value);\n",
    "- ```get_height()```: recursively increment the height by 1 for each child’s height (a ```max()``` walks both children and picks the one with biggest height);\n",
    "- ```viz_[type]()```: returns all nodes' ```id```s in a specific order (depending on ```type```);\n",
    "\n",
    "### Instalation ###\n",
    "Implementation will be made with Python primitives, so no need for installs.\n",
    "\n",
    "### Documentation ###\n",
    "- University of Winsconsin (CS367) - [Link](https://pages.cs.wisc.edu/~skrentny/cs367-common/readings/Binary-Search-Trees/)\n",
    "- Stanford Lecture #110 - [Link](http://cslibrary.stanford.edu/110/BinaryTrees.html#:~:text=A%20binary%20tree%20is%20made,%22subtrees%22%20on%20either%20side.)\n",
    "- Ilha Formosa 1544 Implementation (Excellent) - [Link](https://www.formosa1544.com/2021/03/13/build-the-forest-in-python-series-binary-search-tree/)\n",
    "- BST Visualizer - [Link](http://btv.melezinek.cz/binary-search-tree.html)\n",
    "---"
   ]
  },
  {
   "cell_type": "markdown",
   "metadata": {},
   "source": [
    "### Importing Dependencies ###"
   ]
  },
  {
   "cell_type": "code",
   "execution_count": 1,
   "metadata": {},
   "outputs": [],
   "source": [
    "import random"
   ]
  },
  {
   "cell_type": "markdown",
   "metadata": {},
   "source": [
    "### User-Defined Classes ###"
   ]
  },
  {
   "cell_type": "code",
   "execution_count": 2,
   "metadata": {},
   "outputs": [],
   "source": [
    "class Node(object):\n",
    "    def __init__(self, _id, _data=None, _left=None, _right=None, _parent=None):\n",
    "        self.id = _id # Identifier\n",
    "        self.data = _data # Data/Content\n",
    "        self.left = _left # Left node\n",
    "        self.right = _right # Right node\n",
    "        self.parent = _parent # Parent node\n",
    "\n",
    "    # Magic Methods\n",
    "    def __str__(self):\n",
    "        return \"Node ID: {}\\nParent ID: {}\\nLeft ID: {}\\nRight ID: {}\".format(getattr(self, \"id\", None), \n",
    "                                                                              getattr(self.parent, \"id\", None),\n",
    "                                                                              getattr(self.left, \"id\", None),\n",
    "                                                                              getattr(self.right, \"id\", None))"
   ]
  },
  {
   "cell_type": "code",
   "execution_count": 3,
   "metadata": {},
   "outputs": [],
   "source": [
    "class BinarySearchTree(object):\n",
    "    def __init__(self):\n",
    "        self.root = None\n",
    "\n",
    "    # Insert Methods\n",
    "    def insert(self, _id, _data=None):\n",
    "        # Creating the 'new' node\n",
    "        new_node = Node(_id, _data)\n",
    "        # Assigning initial nodes\n",
    "        parent_node = None\n",
    "        current_node = self.root\n",
    "        # Walking\n",
    "        while current_node: \n",
    "            parent_node = current_node\n",
    "            # Checking children\n",
    "            if new_node.id < current_node.id: \n",
    "                current_node = current_node.left # We go down left\n",
    "            elif new_node.id > current_node.id:\n",
    "                current_node = current_node.right # We go down right\n",
    "            else: \n",
    "                raise(DuplicateError(_id)) # Node already exists\n",
    "        # Assigning the 'parent'\n",
    "        new_node.parent = parent_node\n",
    "        # Assigning 'new_node'\n",
    "        if parent_node is None: # Tree is empty\n",
    "            self.root = new_node\n",
    "        elif new_node.id < parent_node.id:\n",
    "            parent_node.left = new_node # 'new_node' goes left\n",
    "        else:\n",
    "            parent_node.right = new_node # 'new_node' goes right \n",
    "        return None\n",
    "\n",
    "    # Search Methods\n",
    "    def search(self, _id):\n",
    "        # Assigning initial nodes\n",
    "        current_node = self.root\n",
    "        # Walking\n",
    "        while current_node: \n",
    "            # Checking children\n",
    "            if _id < current_node.id: \n",
    "                current_node = current_node.left # We go down left\n",
    "            elif _id > current_node.id:\n",
    "                current_node = current_node.right # We go down right\n",
    "            else: \n",
    "                return current_node # Match \n",
    "        return None # No match \n",
    "\n",
    "    # Transplant Methods\n",
    "    def transplant(self, delete_node=None, replace_node=None):\n",
    "        # Checking 'parent'\n",
    "        if delete_node.parent is None: # If no 'parent', replace 'root\n",
    "            self.root = replace_node  \n",
    "        elif delete_node == delete_node.parent.left: # If 'delete_node' is left child...\n",
    "            delete_node.parent.left = replace_node\n",
    "        else: # If 'delete_node' is right child...\n",
    "            delete_node.parent.right = replace_node\n",
    "        # Updating 'parent'\n",
    "        if replace_node:\n",
    "            replace_node.parent = delete_node.parent\n",
    "\n",
    "    # Delete Methods\n",
    "    def delete(self, _id):\n",
    "        # Searching for '_id' node\n",
    "        delete_node = self.search(_id) # [(bool,Node)]\n",
    "        # Checking if 'root' and 'delete_node' exist\n",
    "        if self.root and delete_node:\n",
    "            # Case 1: no child / Case 2a: only right child\n",
    "            if delete_node.left is None: \n",
    "                self.transplant(delete_node= delete_node,\n",
    "                                replace_node= delete_node.right) # Can be right child or None\n",
    "            # Case 2b: only left child\n",
    "            elif delete_node.right is None:\n",
    "                self.transplant(delete_node= delete_node,\n",
    "                                replace_node= delete_node.left) # Can be left child or None\n",
    "            # Case 3: 2 children\n",
    "            else:\n",
    "                # Assigning right subtree's leftmost node \n",
    "                replace_node = self.get_leftmost(node= delete_node.right)\n",
    "                # If right subtree's leftmost node is not a 'delete_node' child\n",
    "                if replace_node.parent != delete_node:\n",
    "                    self.transplant(delete_node= replace_node,\n",
    "                                    replace_node= replace_node.right) # Transplants 'replace_node' by its right child\n",
    "                                                                      # 'replace_node' still contains the deleted node\n",
    "                    # Updating 'replace_node.right' downstream (child info)\n",
    "                    replace_node.right = delete_node.right\n",
    "                    # Updating 'replace_node.right' upstream (parent info)\n",
    "                    replace_node.right.parent = replace_node\n",
    "                # Replacing 'delete_node' with 'replace_node'\n",
    "                self.transplant(delete_node= delete_node,\n",
    "                                replace_node= replace_node) # Final transplant\n",
    "                # Updating 'replace_node.left' downstream (child info)\n",
    "                replace_node.left = delete_node.left\n",
    "                # Updating 'replace_node.left' upstream (parent info)\n",
    "                replace_node.left.parent = replace_node\n",
    "        return None\n",
    "\n",
    "    # Further-Most Methods\n",
    "    def get_leftmost(self, node=None):\n",
    "        # If tree is empty...\n",
    "        if self.root is None:\n",
    "            return None\n",
    "        # Assigning initial node\n",
    "        current_node = node\n",
    "        # Checking if left child exists\n",
    "        while current_node.left:\n",
    "            current_node = current_node.left\n",
    "        return current_node\n",
    "\n",
    "    def get_rightmost(self, node=None):\n",
    "        # If tree is empty...\n",
    "        if self.root is None:\n",
    "            return None\n",
    "        # Assigning initial node\n",
    "        current_node = node\n",
    "        # Checking if left child exists\n",
    "        while current_node.left:\n",
    "            current_node = current_node.left\n",
    "        return current_node\n",
    "    \n",
    "    # Height Methods\n",
    "    def get_height(self, node=None):\n",
    "        # If tree is empty...\n",
    "        if node is None:\n",
    "            node = self.root\n",
    "        # If 'node' has 2 children...\n",
    "        if node.left and node.right:\n",
    "            return max(self.get_height(node= node.left), # Going down left\n",
    "                       self.get_height(node= node.right)) + 1 # Going down right\n",
    "                                                              # '+1' increments at each level\n",
    "        # If 'node' has only left child...\n",
    "        if node.left:\n",
    "            return self.get_height(node= node.left) + 1 # '+1' increments at each level\n",
    "        # If 'node' has only right child...\n",
    "        if node.right:\n",
    "            return self.get_height(node= node.right) + 1 # '+1' increments at each level\n",
    "        # If reach here, means 'node is a leaf (thus 0 height)\n",
    "        return 0\n",
    "\n",
    "    # Min/Max Methods\n",
    "    def get_min(self):\n",
    "        # If tree is empty...\n",
    "        if self.root is None:\n",
    "            return None\n",
    "        # Assigning initial node\n",
    "        current_node = self.root\n",
    "        # Walking left\n",
    "        while current_node.left:\n",
    "            current_node = current_node.left\n",
    "        return current_node.id\n",
    "\n",
    "    def get_max(self):\n",
    "        # If tree is empty...\n",
    "        if self.root is None:\n",
    "            return None\n",
    "        # Assigning initial node\n",
    "        current_node = self.root\n",
    "        # Walking right\n",
    "        while current_node.right:\n",
    "            current_node = current_node.right\n",
    "        return current_node.id\n",
    "\n",
    "    # Viz Methods\n",
    "    def viz_inorder(self): # Traverse: left subtree > root > right subtree\n",
    "        nodes_lst = [] # Holds all assigned 'node's\n",
    "        values_lst = [] # Holds all values from nodes in 'nodes_lst'\n",
    "        # Assigning initial nodes\n",
    "        current_node = self.root\n",
    "        # Walking\n",
    "        while True:\n",
    "            # If 'current_node' exists...\n",
    "            while current_node: \n",
    "                # Appending 'current_node' to 'nodes_lst'\n",
    "                nodes_lst.append(current_node)\n",
    "                # Updates 'node' (going left)\n",
    "                current_node = current_node.left\n",
    "            # If there's no more nodes in 'nodes_lst' (all processed)...\n",
    "            if not nodes_lst:\n",
    "                return values_lst\n",
    "            # Poping last added node in 'nodes_lst'\n",
    "            current_node = nodes_lst.pop() # pop() = pop(-1)\n",
    "            # Adding to 'values_lst'\n",
    "            values_lst.append(current_node.id)\n",
    "            # Updates 'node' (going right)\n",
    "            current_node = current_node.right\n",
    "\n",
    "    def viz_preorder(self): # Traverse: root > left subtree > right subtree\n",
    "        nodes_lst = [] # Holds all assigned 'node's\n",
    "        values_lst = [] # Holds all values from nodes in 'nodes_lst'\n",
    "        # Assigning initial nodes\n",
    "        current_node = self.root\n",
    "        # Walking\n",
    "        while True:\n",
    "            # If 'current_node' exists...\n",
    "            while current_node: \n",
    "                # Adding to 'values_lst'\n",
    "                values_lst.append(current_node.id)\n",
    "                # Appending 'current_node' to 'nodes_lst'\n",
    "                nodes_lst.append(current_node)\n",
    "                # Updates 'node' (going left)\n",
    "                current_node = current_node.left\n",
    "            # If there's no more nodes in 'nodes_lst' (all processed)...\n",
    "            if not nodes_lst:\n",
    "                return values_lst\n",
    "            # Poping last added node in 'nodes_lst'\n",
    "            current_node = nodes_lst.pop() # pop() = pop(-1)\n",
    "            # Updates 'node' (going right)\n",
    "            current_node = current_node.right\n",
    "\n",
    "    def viz_postorder(self): # Traverse: left subtree > right subtree > root\n",
    "        nodes_lst = [] # Holds all assigned 'node's\n",
    "        values_lst = [] # Holds all values from nodes in 'nodes_lst'\n",
    "        # Assigning initial nodes\n",
    "        current_node = self.root\n",
    "        last_node = None\n",
    "        # Walking\n",
    "        while True:\n",
    "            # If 'current_node' exists...\n",
    "            if current_node: \n",
    "                # Appending 'current_node' to 'nodes_lst'\n",
    "                nodes_lst.append(current_node)\n",
    "                # Updates 'node' (going left)\n",
    "                current_node = current_node.left\n",
    "            # If there's nodes in 'nodes_lst' (all processed)...\n",
    "            elif nodes_lst:\n",
    "                # Updates 'peek_node' with last element\n",
    "                peek_node = nodes_lst[-1]\n",
    "                # If there's a rightmost node that is still unvisited...\n",
    "                if peek_node.right and (last_node != peek_node.right):\n",
    "                    # Updates 'current_node' (going right)\n",
    "                    current_node = peek_node.right\n",
    "                else:\n",
    "                    # Adding to 'values_lst' \n",
    "                    values_lst.append(peek_node.id)\n",
    "                    # Poping last added node in 'nodes_lst'\n",
    "                    last_node = nodes_lst.pop() # pop() = pop(-1)\n",
    "            else:\n",
    "                break\n",
    "        return values_lst"
   ]
  },
  {
   "cell_type": "code",
   "execution_count": 4,
   "metadata": {},
   "outputs": [],
   "source": [
    "class DuplicateError(Exception):\n",
    "    def __init__(self, _id):\n",
    "        Exception.__init__(self, \"{} node already exists\".format(_id))"
   ]
  },
  {
   "cell_type": "code",
   "execution_count": 5,
   "metadata": {},
   "outputs": [],
   "source": [
    "def get_rnd_value(_a=0, _b=20):\n",
    "    return random.randint(a= _a, b= _b)"
   ]
  },
  {
   "cell_type": "markdown",
   "metadata": {},
   "source": [
    "### Main ###"
   ]
  },
  {
   "cell_type": "code",
   "execution_count": 6,
   "metadata": {},
   "outputs": [],
   "source": [
    "# Creating the BST\n",
    "bst_tree = BinarySearchTree() "
   ]
  },
  {
   "cell_type": "code",
   "execution_count": 7,
   "metadata": {},
   "outputs": [],
   "source": [
    "# Inserting nodes in 'bst_tree'\n",
    "for val in [12,5,15,3,7,13,17,1,9,19]:\n",
    "    bst_tree.insert(val) # Dynamic: use 'for each in range(?)' and 'get_rnd_value()' as arg"
   ]
  },
  {
   "cell_type": "code",
   "execution_count": 8,
   "metadata": {},
   "outputs": [
    {
     "name": "stdout",
     "output_type": "stream",
     "text": [
      "In-order Traversal: [1, 3, 5, 7, 9, 12, 13, 15, 17, 19]\n",
      "Pre-order Traversal: [12, 5, 3, 1, 7, 9, 15, 13, 17, 19]\n",
      "Post-order Traversal: [1, 3, 9, 7, 5, 13, 19, 17, 15, 12]\n"
     ]
    }
   ],
   "source": [
    "# Visualizing the tree (all options)\n",
    "print(\"In-order Traversal: {}\".format(bst_tree.viz_inorder()))\n",
    "print(\"Pre-order Traversal: {}\".format(bst_tree.viz_preorder()))\n",
    "print(\"Post-order Traversal: {}\".format(bst_tree.viz_postorder()))"
   ]
  },
  {
   "cell_type": "code",
   "execution_count": 9,
   "metadata": {},
   "outputs": [
    {
     "name": "stdout",
     "output_type": "stream",
     "text": [
      "15 Exists: Node ID: 15\n",
      "Parent ID: 12\n",
      "Left ID: 13\n",
      "Right ID: 17\n"
     ]
    }
   ],
   "source": [
    "# Checking if node exists\n",
    "value = get_rnd_value()\n",
    "print(\"{} Exists: {}\".format(value, bst_tree.search(value)))"
   ]
  },
  {
   "cell_type": "code",
   "execution_count": 10,
   "metadata": {},
   "outputs": [
    {
     "name": "stdout",
     "output_type": "stream",
     "text": [
      "Tree Minimum: 1\n",
      "Tree Maximum: 19\n"
     ]
    }
   ],
   "source": [
    "# Getting the min/max nodes\n",
    "print(\"Tree Minimum: {}\".format(bst_tree.get_min()))\n",
    "print(\"Tree Maximum: {}\".format(bst_tree.get_max()))"
   ]
  },
  {
   "cell_type": "code",
   "execution_count": 11,
   "metadata": {},
   "outputs": [
    {
     "name": "stdout",
     "output_type": "stream",
     "text": [
      "Height: 3\n"
     ]
    }
   ],
   "source": [
    "# Getting the height\n",
    "print(\"Height: {}\".format(bst_tree.get_height()))"
   ]
  },
  {
   "cell_type": "code",
   "execution_count": 12,
   "metadata": {},
   "outputs": [
    {
     "name": "stdout",
     "output_type": "stream",
     "text": [
      "In-order Traversal: [1, 3, 5, 7, 9, 12, 13, 17, 19]\n"
     ]
    }
   ],
   "source": [
    "# Deleting a node\n",
    "bst_tree.delete(15)\n",
    "# Visualizing the change\n",
    "print(\"In-order Traversal: {}\".format(bst_tree.viz_inorder()))"
   ]
  },
  {
   "cell_type": "markdown",
   "metadata": {},
   "source": [
    "---"
   ]
  }
 ],
 "metadata": {
  "kernelspec": {
   "display_name": "Python 3",
   "language": "python",
   "name": "python3"
  },
  "language_info": {
   "codemirror_mode": {
    "name": "ipython",
    "version": 3
   },
   "file_extension": ".py",
   "mimetype": "text/x-python",
   "name": "python",
   "nbconvert_exporter": "python",
   "pygments_lexer": "ipython3",
   "version": "3.9.6"
  }
 },
 "nbformat": 4,
 "nbformat_minor": 2
}
